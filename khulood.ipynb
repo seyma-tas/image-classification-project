{
 "cells": [
  {
   "cell_type": "markdown",
   "metadata": {
    "toc": true
   },
   "source": [
    "<h1>Table of Contents<span class=\"tocSkip\"></span></h1>\n",
    "<div class=\"toc\"><ul class=\"toc-item\"><li><span><a href=\"#Loading-Data\" data-toc-modified-id=\"Loading-Data-1\"><span class=\"toc-item-num\">1&nbsp;&nbsp;</span>Loading Data</a></span></li><li><span><a href=\"#ImageDataGenerator\" data-toc-modified-id=\"ImageDataGenerator-2\"><span class=\"toc-item-num\">2&nbsp;&nbsp;</span>ImageDataGenerator</a></span><ul class=\"toc-item\"><li><span><a href=\"#Preprocessing-images\" data-toc-modified-id=\"Preprocessing-images-2.1\"><span class=\"toc-item-num\">2.1&nbsp;&nbsp;</span>Preprocessing images</a></span></li><li><span><a href=\"#define-testing,training-,-validation,resize,-chuck-data-and-scale\" data-toc-modified-id=\"define-testing,training-,-validation,resize,-chuck-data-and-scale-2.2\"><span class=\"toc-item-num\">2.2&nbsp;&nbsp;</span>define testing,training , validation,resize, chuck data and scale</a></span></li></ul></li><li><span><a href=\"#Base-Model\" data-toc-modified-id=\"Base-Model-3\"><span class=\"toc-item-num\">3&nbsp;&nbsp;</span>Base Model</a></span></li></ul></div>"
   ]
  },
  {
   "cell_type": "code",
   "execution_count": 4,
   "metadata": {
    "ExecuteTime": {
     "end_time": "2020-06-19T03:17:40.960229Z",
     "start_time": "2020-06-19T03:17:35.727301Z"
    }
   },
   "outputs": [],
   "source": [
    "# Importing Libraries\n",
    "import numpy as np\n",
    "import pandas as pd\n",
    "import os\n",
    "from glob import glob\n",
    "%matplotlib inline\n",
    "import matplotlib.pyplot as plt\n",
    "from itertools import chain\n",
    "from random import sample\n",
    "import tensorflow as tf\n",
    "from tensorflow import keras\n",
    "from tensorflow.keras.layers import Input, Lambda, Flatten,Activation, Dense, BatchNormalization, Conv2D\n",
    "from tensorflow.keras.models import Sequential,Model\n",
    "from tensorflow.keras.optimizers import Adam\n",
    "from tensorflow.keras.metrics import categorical_crossentropy\n",
    "from tensorflow.keras.preprocessing import image\n",
    "from tensorflow.keras.preprocessing.image import ImageDataGenerator,array_to_img, img_to_array, load_img\n",
    "from tensorflow.keras.applications.vgg16 import VGG16\n",
    "from tensorflow.keras.applications.vgg16 import preprocess_input\n"
   ]
  },
  {
   "cell_type": "markdown",
   "metadata": {},
   "source": [
    "###  Loading Data"
   ]
  },
  {
   "cell_type": "code",
   "execution_count": 6,
   "metadata": {
    "ExecuteTime": {
     "end_time": "2020-06-19T03:17:41.126867Z",
     "start_time": "2020-06-19T03:17:41.122037Z"
    }
   },
   "outputs": [],
   "source": [
    "train_data_dir =('/Users/khuloodnasher/dsc-mod-4-project-v2-1-onl01-dtsc-ft-030220/chest_xray/train')\n",
    "test_data_dir =('/Users/khuloodnasher/dsc-mod-4-project-v2-1-onl01-dtsc-ft-030220/chest_xray/test')\n",
    "val_data_dir =('/Users/khuloodnasher/dsc-mod-4-project-v2-1-onl01-dtsc-ft-030220/chest_xray/val')"
   ]
  },
  {
   "cell_type": "markdown",
   "metadata": {
    "ExecuteTime": {
     "end_time": "2020-06-19T02:55:38.589624Z",
     "start_time": "2020-06-19T02:55:38.559889Z"
    }
   },
   "source": [
    "### ImageDataGenerator\n",
    "https://keras.io/api/preprocessing/image/\n",
    "\n",
    "The images in the '/data' folder have various resolutions. We will reshape them so they are all 64 x 64 pixels."
   ]
  },
  {
   "cell_type": "markdown",
   "metadata": {},
   "source": [
    "#### Preprocessing images"
   ]
  },
  {
   "cell_type": "markdown",
   "metadata": {},
   "source": [
    "#### define testing,training , validation,resize, chuck data and scale"
   ]
  },
  {
   "cell_type": "code",
   "execution_count": 11,
   "metadata": {
    "ExecuteTime": {
     "end_time": "2020-06-19T03:28:37.254615Z",
     "start_time": "2020-06-19T03:28:36.922921Z"
    }
   },
   "outputs": [
    {
     "name": "stdout",
     "output_type": "stream",
     "text": [
      "test_size is:\n",
      "Found 624 images belonging to 2 classes.\n",
      "==================================================================================\n",
      "train_size is:\n",
      "Found 5216 images belonging to 2 classes.\n",
      "==================================================================================\n",
      "val_size is:\n",
      "Found 16 images belonging to 2 classes.\n"
     ]
    }
   ],
   "source": [
    "# Get all the data in the directory data/test , and reshape them\n",
    "print('test_size is:')\n",
    "test_generator = ImageDataGenerator(rescale=1./255).flow_from_directory(test_data_dir,\n",
    "        target_size=(64, 64), batch_size=32,class_mode = 'binary')\n",
    "print(\"==================================================================================\")\n",
    "# Get all the data in the directory data/train, and reshape them\n",
    "print('train_size is:')\n",
    "train_generator = ImageDataGenerator(rescale=1./255).flow_from_directory(train_data_dir,\n",
    "        target_size=(64, 64), batch_size=32,class_mode = 'binary')\n",
    "print(\"==================================================================================\")\n",
    "print('val_size is:')\n",
    "\n",
    "# Get all the data in the directory data/val, and reshape them\n",
    "val_generator = ImageDataGenerator(rescale=1./255).flow_from_directory(val_data_dir,\n",
    "        target_size=(64, 64), batch_size=32,class_mode = 'binary')"
   ]
  },
  {
   "cell_type": "markdown",
   "metadata": {},
   "source": [
    "### Base Model"
   ]
  },
  {
   "cell_type": "code",
   "execution_count": null,
   "metadata": {},
   "outputs": [],
   "source": []
  }
 ],
 "metadata": {
  "kernelspec": {
   "display_name": "Python 3",
   "language": "python",
   "name": "python3"
  },
   
  "toc": {
   "base_numbering": 1,
   "nav_menu": {},
   "number_sections": true,
   "sideBar": true,
   "skip_h1_title": false,
   "title_cell": "Table of Contents",
   "title_sidebar": "Contents",
   "toc_cell": true,
   "toc_position": {},
   "toc_section_display": true,
   "toc_window_display": false
  },
  "varInspector": {
   "cols": {
    "lenName": 16,
    "lenType": 16,
    "lenVar": 40
   },
   "kernels_config": {
    "python": {
     "delete_cmd_postfix": "",
     "delete_cmd_prefix": "del ",
     "library": "var_list.py",
     "varRefreshCmd": "print(var_dic_list())"
    },
    "r": {
     "delete_cmd_postfix": ") ",
     "delete_cmd_prefix": "rm(",
     "library": "var_list.r",
     "varRefreshCmd": "cat(var_dic_list()) "
    }
   },
   "types_to_exclude": [
    "module",
    "function",
    "builtin_function_or_method",
    "instance",
    "_Feature"
   ],
   "window_display": true
  }
 },
 "nbformat": 4,
 "nbformat_minor": 2
}
